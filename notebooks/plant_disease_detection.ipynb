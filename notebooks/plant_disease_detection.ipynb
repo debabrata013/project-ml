{
 "cells": [
  {
   "cell_type": "markdown",
   "metadata": {},
   "source": [
    "# Plant Disease Detection Model\n",
    "This notebook creates a CNN model to classify plant diseases from images.\n",
    "Dataset: 38 classes of plant diseases with ~70,000 training images"
   ]
  },
  {
   "cell_type": "code",
   "execution_count": 1,
   "metadata": {},
   "outputs": [],
   "source": [
    "import tensorflow as tf\n",
    "from tensorflow.keras import layers, models\n",
    "from tensorflow.keras.preprocessing.image import ImageDataGenerator\n",
    "import numpy as np\n",
    "import matplotlib.pyplot as plt\n",
    "import os\n",
    "import joblib\n",
    "from sklearn.metrics import classification_report, confusion_matrix\n",
    "import seaborn as sns"
   ]
  },
  {
   "cell_type": "code",
   "execution_count": 2,
   "metadata": {},
   "outputs": [],
   "source": [
    "# Dataset paths\n",
    "base_path = '../dataset/Plant Diseases Dataset/New Plant Diseases Dataset(Augmented)/New Plant Diseases Dataset(Augmented)'\n",
    "train_path = os.path.join(base_path, 'train')\n",
    "valid_path = os.path.join(base_path, 'valid')\n",
    "\n",
    "# Model parameters\n",
    "IMG_SIZE = 224\n",
    "BATCH_SIZE = 32\n",
    "EPOCHS = 20\n",
    "NUM_CLASSES = 38"
   ]
  },
  {
   "cell_type": "code",
   "execution_count": 3,
   "metadata": {},
   "outputs": [
    {
     "name": "stdout",
     "output_type": "stream",
     "text": [
      "Found 70295 images belonging to 38 classes.\n",
      "Found 17572 images belonging to 38 classes.\n",
      "Training samples: 70295\n",
      "Validation samples: 17572\n",
      "Number of classes: 38\n"
     ]
    }
   ],
   "source": [
    "# Data preprocessing and augmentation\n",
    "train_datagen = ImageDataGenerator(\n",
    "    rescale=1./255,\n",
    "    rotation_range=20,\n",
    "    width_shift_range=0.2,\n",
    "    height_shift_range=0.2,\n",
    "    horizontal_flip=True,\n",
    "    zoom_range=0.2,\n",
    "    shear_range=0.2,\n",
    "    fill_mode='nearest'\n",
    ")\n",
    "\n",
    "valid_datagen = ImageDataGenerator(rescale=1./255)\n",
    "\n",
    "# Load training data\n",
    "train_generator = train_datagen.flow_from_directory(\n",
    "    train_path,\n",
    "    target_size=(IMG_SIZE, IMG_SIZE),\n",
    "    batch_size=BATCH_SIZE,\n",
    "    class_mode='categorical',\n",
    "    shuffle=True\n",
    ")\n",
    "\n",
    "# Load validation data\n",
    "valid_generator = valid_datagen.flow_from_directory(\n",
    "    valid_path,\n",
    "    target_size=(IMG_SIZE, IMG_SIZE),\n",
    "    batch_size=BATCH_SIZE,\n",
    "    class_mode='categorical',\n",
    "    shuffle=False\n",
    ")\n",
    "\n",
    "print(f\"Training samples: {train_generator.samples}\")\n",
    "print(f\"Validation samples: {valid_generator.samples}\")\n",
    "print(f\"Number of classes: {train_generator.num_classes}\")"
   ]
  },
  {
   "cell_type": "code",
   "execution_count": 4,
   "metadata": {},
   "outputs": [
    {
     "name": "stdout",
     "output_type": "stream",
     "text": [
      "Disease Classes:\n",
      "0: Apple___Apple_scab\n",
      "1: Apple___Black_rot\n",
      "2: Apple___Cedar_apple_rust\n",
      "3: Apple___healthy\n",
      "4: Blueberry___healthy\n",
      "5: Cherry_(including_sour)___Powdery_mildew\n",
      "6: Cherry_(including_sour)___healthy\n",
      "7: Corn_(maize)___Cercospora_leaf_spot Gray_leaf_spot\n",
      "8: Corn_(maize)___Common_rust_\n",
      "9: Corn_(maize)___Northern_Leaf_Blight\n",
      "10: Corn_(maize)___healthy\n",
      "11: Grape___Black_rot\n",
      "12: Grape___Esca_(Black_Measles)\n",
      "13: Grape___Leaf_blight_(Isariopsis_Leaf_Spot)\n",
      "14: Grape___healthy\n",
      "15: Orange___Haunglongbing_(Citrus_greening)\n",
      "16: Peach___Bacterial_spot\n",
      "17: Peach___healthy\n",
      "18: Pepper,_bell___Bacterial_spot\n",
      "19: Pepper,_bell___healthy\n",
      "20: Potato___Early_blight\n",
      "21: Potato___Late_blight\n",
      "22: Potato___healthy\n",
      "23: Raspberry___healthy\n",
      "24: Soybean___healthy\n",
      "25: Squash___Powdery_mildew\n",
      "26: Strawberry___Leaf_scorch\n",
      "27: Strawberry___healthy\n",
      "28: Tomato___Bacterial_spot\n",
      "29: Tomato___Early_blight\n",
      "30: Tomato___Late_blight\n",
      "31: Tomato___Leaf_Mold\n",
      "32: Tomato___Septoria_leaf_spot\n",
      "33: Tomato___Spider_mites Two-spotted_spider_mite\n",
      "34: Tomato___Target_Spot\n",
      "35: Tomato___Tomato_Yellow_Leaf_Curl_Virus\n",
      "36: Tomato___Tomato_mosaic_virus\n",
      "37: Tomato___healthy\n"
     ]
    }
   ],
   "source": [
    "# Display class names\n",
    "class_names = list(train_generator.class_indices.keys())\n",
    "print(\"Disease Classes:\")\n",
    "for i, name in enumerate(class_names):\n",
    "    print(f\"{i}: {name}\")"
   ]
  },
  {
   "cell_type": "code",
   "execution_count": 5,
   "metadata": {},
   "outputs": [
    {
     "data": {
      "text/html": [
       "<pre style=\"white-space:pre;overflow-x:auto;line-height:normal;font-family:Menlo,'DejaVu Sans Mono',consolas,'Courier New',monospace\"><span style=\"font-weight: bold\">Model: \"sequential\"</span>\n",
       "</pre>\n"
      ],
      "text/plain": [
       "\u001b[1mModel: \"sequential\"\u001b[0m\n"
      ]
     },
     "metadata": {},
     "output_type": "display_data"
    },
    {
     "data": {
      "text/html": [
       "<pre style=\"white-space:pre;overflow-x:auto;line-height:normal;font-family:Menlo,'DejaVu Sans Mono',consolas,'Courier New',monospace\">┏━━━━━━━━━━━━━━━━━━━━━━━━━━━━━━━━━┳━━━━━━━━━━━━━━━━━━━━━━━━┳━━━━━━━━━━━━━━━┓\n",
       "┃<span style=\"font-weight: bold\"> Layer (type)                    </span>┃<span style=\"font-weight: bold\"> Output Shape           </span>┃<span style=\"font-weight: bold\">       Param # </span>┃\n",
       "┡━━━━━━━━━━━━━━━━━━━━━━━━━━━━━━━━━╇━━━━━━━━━━━━━━━━━━━━━━━━╇━━━━━━━━━━━━━━━┩\n",
       "│ mobilenetv2_1.00_224            │ (<span style=\"color: #00d7ff; text-decoration-color: #00d7ff\">None</span>, <span style=\"color: #00af00; text-decoration-color: #00af00\">7</span>, <span style=\"color: #00af00; text-decoration-color: #00af00\">7</span>, <span style=\"color: #00af00; text-decoration-color: #00af00\">1280</span>)     │     <span style=\"color: #00af00; text-decoration-color: #00af00\">2,257,984</span> │\n",
       "│ (<span style=\"color: #0087ff; text-decoration-color: #0087ff\">Functional</span>)                    │                        │               │\n",
       "├─────────────────────────────────┼────────────────────────┼───────────────┤\n",
       "│ global_average_pooling2d        │ (<span style=\"color: #00d7ff; text-decoration-color: #00d7ff\">None</span>, <span style=\"color: #00af00; text-decoration-color: #00af00\">1280</span>)           │             <span style=\"color: #00af00; text-decoration-color: #00af00\">0</span> │\n",
       "│ (<span style=\"color: #0087ff; text-decoration-color: #0087ff\">GlobalAveragePooling2D</span>)        │                        │               │\n",
       "├─────────────────────────────────┼────────────────────────┼───────────────┤\n",
       "│ dropout (<span style=\"color: #0087ff; text-decoration-color: #0087ff\">Dropout</span>)               │ (<span style=\"color: #00d7ff; text-decoration-color: #00d7ff\">None</span>, <span style=\"color: #00af00; text-decoration-color: #00af00\">1280</span>)           │             <span style=\"color: #00af00; text-decoration-color: #00af00\">0</span> │\n",
       "├─────────────────────────────────┼────────────────────────┼───────────────┤\n",
       "│ dense (<span style=\"color: #0087ff; text-decoration-color: #0087ff\">Dense</span>)                   │ (<span style=\"color: #00d7ff; text-decoration-color: #00d7ff\">None</span>, <span style=\"color: #00af00; text-decoration-color: #00af00\">512</span>)            │       <span style=\"color: #00af00; text-decoration-color: #00af00\">655,872</span> │\n",
       "├─────────────────────────────────┼────────────────────────┼───────────────┤\n",
       "│ dropout_1 (<span style=\"color: #0087ff; text-decoration-color: #0087ff\">Dropout</span>)             │ (<span style=\"color: #00d7ff; text-decoration-color: #00d7ff\">None</span>, <span style=\"color: #00af00; text-decoration-color: #00af00\">512</span>)            │             <span style=\"color: #00af00; text-decoration-color: #00af00\">0</span> │\n",
       "├─────────────────────────────────┼────────────────────────┼───────────────┤\n",
       "│ dense_1 (<span style=\"color: #0087ff; text-decoration-color: #0087ff\">Dense</span>)                 │ (<span style=\"color: #00d7ff; text-decoration-color: #00d7ff\">None</span>, <span style=\"color: #00af00; text-decoration-color: #00af00\">38</span>)             │        <span style=\"color: #00af00; text-decoration-color: #00af00\">19,494</span> │\n",
       "└─────────────────────────────────┴────────────────────────┴───────────────┘\n",
       "</pre>\n"
      ],
      "text/plain": [
       "┏━━━━━━━━━━━━━━━━━━━━━━━━━━━━━━━━━┳━━━━━━━━━━━━━━━━━━━━━━━━┳━━━━━━━━━━━━━━━┓\n",
       "┃\u001b[1m \u001b[0m\u001b[1mLayer (type)                   \u001b[0m\u001b[1m \u001b[0m┃\u001b[1m \u001b[0m\u001b[1mOutput Shape          \u001b[0m\u001b[1m \u001b[0m┃\u001b[1m \u001b[0m\u001b[1m      Param #\u001b[0m\u001b[1m \u001b[0m┃\n",
       "┡━━━━━━━━━━━━━━━━━━━━━━━━━━━━━━━━━╇━━━━━━━━━━━━━━━━━━━━━━━━╇━━━━━━━━━━━━━━━┩\n",
       "│ mobilenetv2_1.00_224            │ (\u001b[38;5;45mNone\u001b[0m, \u001b[38;5;34m7\u001b[0m, \u001b[38;5;34m7\u001b[0m, \u001b[38;5;34m1280\u001b[0m)     │     \u001b[38;5;34m2,257,984\u001b[0m │\n",
       "│ (\u001b[38;5;33mFunctional\u001b[0m)                    │                        │               │\n",
       "├─────────────────────────────────┼────────────────────────┼───────────────┤\n",
       "│ global_average_pooling2d        │ (\u001b[38;5;45mNone\u001b[0m, \u001b[38;5;34m1280\u001b[0m)           │             \u001b[38;5;34m0\u001b[0m │\n",
       "│ (\u001b[38;5;33mGlobalAveragePooling2D\u001b[0m)        │                        │               │\n",
       "├─────────────────────────────────┼────────────────────────┼───────────────┤\n",
       "│ dropout (\u001b[38;5;33mDropout\u001b[0m)               │ (\u001b[38;5;45mNone\u001b[0m, \u001b[38;5;34m1280\u001b[0m)           │             \u001b[38;5;34m0\u001b[0m │\n",
       "├─────────────────────────────────┼────────────────────────┼───────────────┤\n",
       "│ dense (\u001b[38;5;33mDense\u001b[0m)                   │ (\u001b[38;5;45mNone\u001b[0m, \u001b[38;5;34m512\u001b[0m)            │       \u001b[38;5;34m655,872\u001b[0m │\n",
       "├─────────────────────────────────┼────────────────────────┼───────────────┤\n",
       "│ dropout_1 (\u001b[38;5;33mDropout\u001b[0m)             │ (\u001b[38;5;45mNone\u001b[0m, \u001b[38;5;34m512\u001b[0m)            │             \u001b[38;5;34m0\u001b[0m │\n",
       "├─────────────────────────────────┼────────────────────────┼───────────────┤\n",
       "│ dense_1 (\u001b[38;5;33mDense\u001b[0m)                 │ (\u001b[38;5;45mNone\u001b[0m, \u001b[38;5;34m38\u001b[0m)             │        \u001b[38;5;34m19,494\u001b[0m │\n",
       "└─────────────────────────────────┴────────────────────────┴───────────────┘\n"
      ]
     },
     "metadata": {},
     "output_type": "display_data"
    },
    {
     "data": {
      "text/html": [
       "<pre style=\"white-space:pre;overflow-x:auto;line-height:normal;font-family:Menlo,'DejaVu Sans Mono',consolas,'Courier New',monospace\"><span style=\"font-weight: bold\"> Total params: </span><span style=\"color: #00af00; text-decoration-color: #00af00\">2,933,350</span> (11.19 MB)\n",
       "</pre>\n"
      ],
      "text/plain": [
       "\u001b[1m Total params: \u001b[0m\u001b[38;5;34m2,933,350\u001b[0m (11.19 MB)\n"
      ]
     },
     "metadata": {},
     "output_type": "display_data"
    },
    {
     "data": {
      "text/html": [
       "<pre style=\"white-space:pre;overflow-x:auto;line-height:normal;font-family:Menlo,'DejaVu Sans Mono',consolas,'Courier New',monospace\"><span style=\"font-weight: bold\"> Trainable params: </span><span style=\"color: #00af00; text-decoration-color: #00af00\">675,366</span> (2.58 MB)\n",
       "</pre>\n"
      ],
      "text/plain": [
       "\u001b[1m Trainable params: \u001b[0m\u001b[38;5;34m675,366\u001b[0m (2.58 MB)\n"
      ]
     },
     "metadata": {},
     "output_type": "display_data"
    },
    {
     "data": {
      "text/html": [
       "<pre style=\"white-space:pre;overflow-x:auto;line-height:normal;font-family:Menlo,'DejaVu Sans Mono',consolas,'Courier New',monospace\"><span style=\"font-weight: bold\"> Non-trainable params: </span><span style=\"color: #00af00; text-decoration-color: #00af00\">2,257,984</span> (8.61 MB)\n",
       "</pre>\n"
      ],
      "text/plain": [
       "\u001b[1m Non-trainable params: \u001b[0m\u001b[38;5;34m2,257,984\u001b[0m (8.61 MB)\n"
      ]
     },
     "metadata": {},
     "output_type": "display_data"
    }
   ],
   "source": [
    "# Create CNN model with transfer learning (MobileNetV2)\n",
    "base_model = tf.keras.applications.MobileNetV2(\n",
    "    input_shape=(IMG_SIZE, IMG_SIZE, 3),\n",
    "    include_top=False,\n",
    "    weights='imagenet'\n",
    ")\n",
    "\n",
    "base_model.trainable = False  # Freeze base model\n",
    "\n",
    "model = models.Sequential([\n",
    "    base_model,\n",
    "    layers.GlobalAveragePooling2D(),\n",
    "    layers.Dropout(0.5),\n",
    "    layers.Dense(512, activation='relu'),\n",
    "    layers.Dropout(0.3),\n",
    "    layers.Dense(NUM_CLASSES, activation='softmax')\n",
    "])\n",
    "\n",
    "model.compile(\n",
    "    optimizer='adam',\n",
    "    loss='categorical_crossentropy',\n",
    "    metrics=['accuracy']\n",
    ")\n",
    "\n",
    "model.summary()"
   ]
  },
  {
   "cell_type": "code",
   "execution_count": 6,
   "metadata": {},
   "outputs": [],
   "source": [
    "# Callbacks for training\n",
    "callbacks = [\n",
    "    tf.keras.callbacks.EarlyStopping(\n",
    "        monitor='val_accuracy',\n",
    "        patience=5,\n",
    "        restore_best_weights=True\n",
    "    ),\n",
    "    tf.keras.callbacks.ReduceLROnPlateau(\n",
    "        monitor='val_loss',\n",
    "        factor=0.2,\n",
    "        patience=3,\n",
    "        min_lr=1e-7\n",
    "    )\n",
    "]"
   ]
  },
  {
   "cell_type": "code",
   "execution_count": 7,
   "metadata": {},
   "outputs": [
    {
     "name": "stderr",
     "output_type": "stream",
     "text": [
      "/Users/debabratapattnayak/project-ml/.venv/lib/python3.13/site-packages/keras/src/trainers/data_adapters/py_dataset_adapter.py:121: UserWarning: Your `PyDataset` class should call `super().__init__(**kwargs)` in its constructor. `**kwargs` can include `workers`, `use_multiprocessing`, `max_queue_size`. Do not pass these arguments to `fit()`, as they will be ignored.\n",
      "  self._warn_if_super_not_called()\n"
     ]
    },
    {
     "name": "stdout",
     "output_type": "stream",
     "text": [
      "Epoch 1/20\n",
      "\u001b[1m2197/2197\u001b[0m \u001b[32m━━━━━━━━━━━━━━━━━━━━\u001b[0m\u001b[37m\u001b[0m \u001b[1m673s\u001b[0m 305ms/step - accuracy: 0.7290 - loss: 0.8748 - val_accuracy: 0.8842 - val_loss: 0.3595 - learning_rate: 0.0010\n",
      "Epoch 2/20\n",
      "\u001b[1m2197/2197\u001b[0m \u001b[32m━━━━━━━━━━━━━━━━━━━━\u001b[0m\u001b[37m\u001b[0m \u001b[1m744s\u001b[0m 338ms/step - accuracy: 0.8034 - loss: 0.6077 - val_accuracy: 0.9050 - val_loss: 0.2948 - learning_rate: 0.0010\n",
      "Epoch 3/20\n",
      "\u001b[1m2197/2197\u001b[0m \u001b[32m━━━━━━━━━━━━━━━━━━━━\u001b[0m\u001b[37m\u001b[0m \u001b[1m759s\u001b[0m 345ms/step - accuracy: 0.8184 - loss: 0.5635 - val_accuracy: 0.8958 - val_loss: 0.3082 - learning_rate: 0.0010\n",
      "Epoch 4/20\n",
      "\u001b[1m2197/2197\u001b[0m \u001b[32m━━━━━━━━━━━━━━━━━━━━\u001b[0m\u001b[37m\u001b[0m \u001b[1m757s\u001b[0m 344ms/step - accuracy: 0.8267 - loss: 0.5424 - val_accuracy: 0.9022 - val_loss: 0.2898 - learning_rate: 0.0010\n",
      "Epoch 5/20\n",
      "\u001b[1m2197/2197\u001b[0m \u001b[32m━━━━━━━━━━━━━━━━━━━━\u001b[0m\u001b[37m\u001b[0m \u001b[1m780s\u001b[0m 355ms/step - accuracy: 0.8311 - loss: 0.5296 - val_accuracy: 0.9073 - val_loss: 0.2764 - learning_rate: 0.0010\n",
      "Epoch 6/20\n",
      "\u001b[1m2197/2197\u001b[0m \u001b[32m━━━━━━━━━━━━━━━━━━━━\u001b[0m\u001b[37m\u001b[0m \u001b[1m770s\u001b[0m 350ms/step - accuracy: 0.8370 - loss: 0.5101 - val_accuracy: 0.9093 - val_loss: 0.2678 - learning_rate: 0.0010\n",
      "Epoch 7/20\n",
      "\u001b[1m2197/2197\u001b[0m \u001b[32m━━━━━━━━━━━━━━━━━━━━\u001b[0m\u001b[37m\u001b[0m \u001b[1m768s\u001b[0m 349ms/step - accuracy: 0.8389 - loss: 0.5023 - val_accuracy: 0.9227 - val_loss: 0.2440 - learning_rate: 0.0010\n",
      "Epoch 8/20\n",
      "\u001b[1m2197/2197\u001b[0m \u001b[32m━━━━━━━━━━━━━━━━━━━━\u001b[0m\u001b[37m\u001b[0m \u001b[1m778s\u001b[0m 354ms/step - accuracy: 0.8412 - loss: 0.4978 - val_accuracy: 0.9184 - val_loss: 0.2429 - learning_rate: 0.0010\n",
      "Epoch 9/20\n",
      "\u001b[1m2197/2197\u001b[0m \u001b[32m━━━━━━━━━━━━━━━━━━━━\u001b[0m\u001b[37m\u001b[0m \u001b[1m765s\u001b[0m 348ms/step - accuracy: 0.8406 - loss: 0.5058 - val_accuracy: 0.9203 - val_loss: 0.2373 - learning_rate: 0.0010\n",
      "Epoch 10/20\n",
      "\u001b[1m2197/2197\u001b[0m \u001b[32m━━━━━━━━━━━━━━━━━━━━\u001b[0m\u001b[37m\u001b[0m \u001b[1m762s\u001b[0m 347ms/step - accuracy: 0.8443 - loss: 0.4942 - val_accuracy: 0.9227 - val_loss: 0.2357 - learning_rate: 0.0010\n",
      "Epoch 11/20\n",
      "\u001b[1m2197/2197\u001b[0m \u001b[32m━━━━━━━━━━━━━━━━━━━━\u001b[0m\u001b[37m\u001b[0m \u001b[1m1018s\u001b[0m 463ms/step - accuracy: 0.8452 - loss: 0.4910 - val_accuracy: 0.9190 - val_loss: 0.2373 - learning_rate: 0.0010\n",
      "Epoch 12/20\n",
      "\u001b[1m2197/2197\u001b[0m \u001b[32m━━━━━━━━━━━━━━━━━━━━\u001b[0m\u001b[37m\u001b[0m \u001b[1m767s\u001b[0m 349ms/step - accuracy: 0.8489 - loss: 0.4854 - val_accuracy: 0.9243 - val_loss: 0.2305 - learning_rate: 0.0010\n",
      "Epoch 13/20\n",
      "\u001b[1m2197/2197\u001b[0m \u001b[32m━━━━━━━━━━━━━━━━━━━━\u001b[0m\u001b[37m\u001b[0m \u001b[1m957s\u001b[0m 436ms/step - accuracy: 0.8485 - loss: 0.4884 - val_accuracy: 0.9219 - val_loss: 0.2335 - learning_rate: 0.0010\n",
      "Epoch 14/20\n",
      "\u001b[1m2197/2197\u001b[0m \u001b[32m━━━━━━━━━━━━━━━━━━━━\u001b[0m\u001b[37m\u001b[0m \u001b[1m752s\u001b[0m 342ms/step - accuracy: 0.8491 - loss: 0.4799 - val_accuracy: 0.9281 - val_loss: 0.2240 - learning_rate: 0.0010\n",
      "Epoch 15/20\n",
      "\u001b[1m2197/2197\u001b[0m \u001b[32m━━━━━━━━━━━━━━━━━━━━\u001b[0m\u001b[37m\u001b[0m \u001b[1m769s\u001b[0m 350ms/step - accuracy: 0.8513 - loss: 0.4782 - val_accuracy: 0.9249 - val_loss: 0.2337 - learning_rate: 0.0010\n",
      "Epoch 16/20\n",
      "\u001b[1m2197/2197\u001b[0m \u001b[32m━━━━━━━━━━━━━━━━━━━━\u001b[0m\u001b[37m\u001b[0m \u001b[1m1164s\u001b[0m 530ms/step - accuracy: 0.8515 - loss: 0.4810 - val_accuracy: 0.9252 - val_loss: 0.2294 - learning_rate: 0.0010\n",
      "Epoch 17/20\n",
      "\u001b[1m2197/2197\u001b[0m \u001b[32m━━━━━━━━━━━━━━━━━━━━\u001b[0m\u001b[37m\u001b[0m \u001b[1m678s\u001b[0m 309ms/step - accuracy: 0.8524 - loss: 0.4781 - val_accuracy: 0.9278 - val_loss: 0.2172 - learning_rate: 0.0010\n",
      "Epoch 18/20\n",
      "\u001b[1m2197/2197\u001b[0m \u001b[32m━━━━━━━━━━━━━━━━━━━━\u001b[0m\u001b[37m\u001b[0m \u001b[1m744s\u001b[0m 339ms/step - accuracy: 0.8541 - loss: 0.4711 - val_accuracy: 0.9288 - val_loss: 0.2268 - learning_rate: 0.0010\n",
      "Epoch 19/20\n",
      "\u001b[1m2197/2197\u001b[0m \u001b[32m━━━━━━━━━━━━━━━━━━━━\u001b[0m\u001b[37m\u001b[0m \u001b[1m724s\u001b[0m 330ms/step - accuracy: 0.8538 - loss: 0.4704 - val_accuracy: 0.9239 - val_loss: 0.2331 - learning_rate: 0.0010\n",
      "Epoch 20/20\n",
      "\u001b[1m2197/2197\u001b[0m \u001b[32m━━━━━━━━━━━━━━━━━━━━\u001b[0m\u001b[37m\u001b[0m \u001b[1m937s\u001b[0m 426ms/step - accuracy: 0.8570 - loss: 0.4650 - val_accuracy: 0.9259 - val_loss: 0.2299 - learning_rate: 0.0010\n"
     ]
    }
   ],
   "source": [
    "# Train the model\n",
    "history = model.fit(\n",
    "    train_generator,\n",
    "    epochs=EPOCHS,\n",
    "    validation_data=valid_generator,\n",
    "    callbacks=callbacks,\n",
    "    verbose=1\n",
    ")"
   ]
  },
  {
   "cell_type": "code",
   "execution_count": 8,
   "metadata": {},
   "outputs": [
    {
     "data": {
      "image/png": "[encoded data removed]",
      "text/plain": [
       "<Figure size 1200x400 with 2 Axes>"
      ]
     },
     "metadata": {},
     "output_type": "display_data"
    }
   ],
   "source": [
    "# Plot training history\n",
    "plt.figure(figsize=(12, 4))\n",
    "\n",
    "plt.subplot(1, 2, 1)\n",
    "plt.plot(history.history['accuracy'], label='Training Accuracy')\n",
    "plt.plot(history.history['val_accuracy'], label='Validation Accuracy')\n",
    "plt.title('Model Accuracy')\n",
    "plt.xlabel('Epoch')\n",
    "plt.ylabel('Accuracy')\n",
    "plt.legend()\n",
    "\n",
    "plt.subplot(1, 2, 2)\n",
    "plt.plot(history.history['loss'], label='Training Loss')\n",
    "plt.plot(history.history['val_loss'], label='Validation Loss')\n",
    "plt.title('Model Loss')\n",
    "plt.xlabel('Epoch')\n",
    "plt.ylabel('Loss')\n",
    "plt.legend()\n",
    "\n",
    "plt.tight_layout()\n",
    "plt.show()"
   ]
  },
  {
   "cell_type": "code",
   "execution_count": 9,
   "metadata": {},
   "outputs": [
    {
     "name": "stdout",
     "output_type": "stream",
     "text": [
      "Fine-tuning from layer 100\n"
     ]
    }
   ],
   "source": [
    "# Fine-tuning: Unfreeze top layers of base model\n",
    "base_model.trainable = True\n",
    "\n",
    "# Fine-tune from this layer onwards\n",
    "fine_tune_at = 100\n",
    "\n",
    "# Freeze all the layers before fine_tune_at\n",
    "for layer in base_model.layers[:fine_tune_at]:\n",
    "    layer.trainable = False\n",
    "\n",
    "# Use lower learning rate for fine-tuning\n",
    "model.compile(\n",
    "    optimizer=tf.keras.optimizers.Adam(1e-5),\n",
    "    loss='categorical_crossentropy',\n",
    "    metrics=['accuracy']\n",
    ")\n",
    "\n",
    "print(f\"Fine-tuning from layer {fine_tune_at}\")"
   ]
  },
  {
   "cell_type": "code",
   "execution_count": 10,
   "metadata": {},
   "outputs": [
    {
     "name": "stdout",
     "output_type": "stream",
     "text": [
      "Epoch 20/30\n",
      "\u001b[1m2197/2197\u001b[0m \u001b[32m━━━━━━━━━━━━━━━━━━━━\u001b[0m\u001b[37m\u001b[0m \u001b[1m1110s\u001b[0m 503ms/step - accuracy: 0.7272 - loss: 1.1856 - val_accuracy: 0.9178 - val_loss: 0.2522 - learning_rate: 1.0000e-05\n",
      "Epoch 21/30\n",
      "\u001b[1m2197/2197\u001b[0m \u001b[32m━━━━━━━━━━━━━━━━━━━━\u001b[0m\u001b[37m\u001b[0m \u001b[1m1057s\u001b[0m 481ms/step - accuracy: 0.8541 - loss: 0.4880 - val_accuracy: 0.9367 - val_loss: 0.1957 - learning_rate: 1.0000e-05\n",
      "Epoch 22/30\n",
      "\u001b[1m2197/2197\u001b[0m \u001b[32m━━━━━━━━━━━━━━━━━━━━\u001b[0m\u001b[37m\u001b[0m \u001b[1m1085s\u001b[0m 493ms/step - accuracy: 0.8896 - loss: 0.3564 - val_accuracy: 0.9523 - val_loss: 0.1503 - learning_rate: 1.0000e-05\n",
      "Epoch 23/30\n",
      "\u001b[1m2197/2197\u001b[0m \u001b[32m━━━━━━━━━━━━━━━━━━━━\u001b[0m\u001b[37m\u001b[0m \u001b[1m1082s\u001b[0m 493ms/step - accuracy: 0.9083 - loss: 0.2895 - val_accuracy: 0.9574 - val_loss: 0.1300 - learning_rate: 1.0000e-05\n",
      "Epoch 24/30\n",
      "\u001b[1m2197/2197\u001b[0m \u001b[32m━━━━━━━━━━━━━━━━━━━━\u001b[0m\u001b[37m\u001b[0m \u001b[1m1059s\u001b[0m 482ms/step - accuracy: 0.9205 - loss: 0.2508 - val_accuracy: 0.9641 - val_loss: 0.1103 - learning_rate: 1.0000e-05\n",
      "Epoch 25/30\n",
      "\u001b[1m2197/2197\u001b[0m \u001b[32m━━━━━━━━━━━━━━━━━━━━\u001b[0m\u001b[37m\u001b[0m \u001b[1m1080s\u001b[0m 492ms/step - accuracy: 0.9327 - loss: 0.2082 - val_accuracy: 0.9671 - val_loss: 0.0999 - learning_rate: 1.0000e-05\n",
      "Epoch 26/30\n",
      "\u001b[1m2197/2197\u001b[0m \u001b[32m━━━━━━━━━━━━━━━━━━━━\u001b[0m\u001b[37m\u001b[0m \u001b[1m1129s\u001b[0m 514ms/step - accuracy: 0.9404 - loss: 0.1865 - val_accuracy: 0.9678 - val_loss: 0.0987 - learning_rate: 1.0000e-05\n",
      "Epoch 27/30\n",
      "\u001b[1m2197/2197\u001b[0m \u001b[32m━━━━━━━━━━━━━━━━━━━━\u001b[0m\u001b[37m\u001b[0m \u001b[1m1116s\u001b[0m 508ms/step - accuracy: 0.9452 - loss: 0.1671 - val_accuracy: 0.9734 - val_loss: 0.0825 - learning_rate: 1.0000e-05\n",
      "Epoch 28/30\n",
      "\u001b[1m2197/2197\u001b[0m \u001b[32m━━━━━━━━━━━━━━━━━━━━\u001b[0m\u001b[37m\u001b[0m \u001b[1m1024s\u001b[0m 466ms/step - accuracy: 0.9507 - loss: 0.1524 - val_accuracy: 0.9732 - val_loss: 0.0808 - learning_rate: 1.0000e-05\n",
      "Epoch 29/30\n",
      "\u001b[1m2197/2197\u001b[0m \u001b[32m━━━━━━━━━━━━━━━━━━━━\u001b[0m\u001b[37m\u001b[0m \u001b[1m1033s\u001b[0m 470ms/step - accuracy: 0.9557 - loss: 0.1402 - val_accuracy: 0.9743 - val_loss: 0.0773 - learning_rate: 1.0000e-05\n",
      "Epoch 30/30\n",
      "\u001b[1m2197/2197\u001b[0m \u001b[32m━━━━━━━━━━━━━━━━━━━━\u001b[0m\u001b[37m\u001b[0m \u001b[1m1050s\u001b[0m 478ms/step - accuracy: 0.9577 - loss: 0.1291 - val_accuracy: 0.9768 - val_loss: 0.0692 - learning_rate: 1.0000e-05\n"
     ]
    }
   ],
   "source": [
    "# Fine-tune the model\n",
    "fine_tune_epochs = 10\n",
    "total_epochs = EPOCHS + fine_tune_epochs\n",
    "\n",
    "history_fine = model.fit(\n",
    "    train_generator,\n",
    "    epochs=total_epochs,\n",
    "    initial_epoch=history.epoch[-1],\n",
    "    validation_data=valid_generator,\n",
    "    callbacks=callbacks,\n",
    "    verbose=1\n",
    ")"
   ]
  },
  {
   "cell_type": "code",
   "execution_count": 11,
   "metadata": {},
   "outputs": [
    {
     "name": "stdout",
     "output_type": "stream",
     "text": [
      "Final Test Accuracy: 0.9768\n",
      "Final Test Loss: 0.0692\n"
     ]
    }
   ],
   "source": [
    "# Evaluate model\n",
    "test_loss, test_accuracy = model.evaluate(valid_generator, verbose=0)\n",
    "print(f\"Final Test Accuracy: {test_accuracy:.4f}\")\n",
    "print(f\"Final Test Loss: {test_loss:.4f}\")"
   ]
  },
  {
   "cell_type": "code",
   "execution_count": 12,
   "metadata": {},
   "outputs": [
    {
     "name": "stdout",
     "output_type": "stream",
     "text": [
      "\u001b[1m550/550\u001b[0m \u001b[32m━━━━━━━━━━━━━━━━━━━━\u001b[0m\u001b[37m\u001b[0m \u001b[1m130s\u001b[0m 236ms/step\n",
      "Classification Report:\n",
      "                                                    precision    recall  f1-score   support\n",
      "\n",
      "                                Apple___Apple_scab       0.98      0.98      0.98       504\n",
      "                                 Apple___Black_rot       0.98      1.00      0.99       497\n",
      "                          Apple___Cedar_apple_rust       1.00      1.00      1.00       440\n",
      "                                   Apple___healthy       0.99      0.99      0.99       502\n",
      "                               Blueberry___healthy       0.99      0.99      0.99       454\n",
      "          Cherry_(including_sour)___Powdery_mildew       1.00      0.99      1.00       421\n",
      "                 Cherry_(including_sour)___healthy       1.00      1.00      1.00       456\n",
      "Corn_(maize)___Cercospora_leaf_spot Gray_leaf_spot       0.96      0.90      0.93       410\n",
      "                       Corn_(maize)___Common_rust_       0.99      1.00      0.99       477\n",
      "               Corn_(maize)___Northern_Leaf_Blight       0.91      0.97      0.94       477\n",
      "                            Corn_(maize)___healthy       1.00      1.00      1.00       465\n",
      "                                 Grape___Black_rot       0.99      1.00      0.99       472\n",
      "                      Grape___Esca_(Black_Measles)       1.00      0.99      0.99       480\n",
      "        Grape___Leaf_blight_(Isariopsis_Leaf_Spot)       1.00      1.00      1.00       430\n",
      "                                   Grape___healthy       1.00      1.00      1.00       423\n",
      "          Orange___Haunglongbing_(Citrus_greening)       1.00      1.00      1.00       503\n",
      "                            Peach___Bacterial_spot       1.00      0.99      0.99       459\n",
      "                                   Peach___healthy       0.98      1.00      0.99       432\n",
      "                     Pepper,_bell___Bacterial_spot       0.96      1.00      0.98       478\n",
      "                            Pepper,_bell___healthy       0.98      0.99      0.98       497\n",
      "                             Potato___Early_blight       0.99      1.00      0.99       485\n",
      "                              Potato___Late_blight       0.99      0.98      0.98       485\n",
      "                                  Potato___healthy       1.00      0.95      0.97       456\n",
      "                               Raspberry___healthy       1.00      1.00      1.00       445\n",
      "                                 Soybean___healthy       0.98      1.00      0.99       505\n",
      "                           Squash___Powdery_mildew       1.00      1.00      1.00       434\n",
      "                          Strawberry___Leaf_scorch       1.00      0.99      1.00       444\n",
      "                              Strawberry___healthy       1.00      1.00      1.00       456\n",
      "                           Tomato___Bacterial_spot       0.93      0.99      0.96       425\n",
      "                             Tomato___Early_blight       0.96      0.87      0.91       480\n",
      "                              Tomato___Late_blight       0.97      0.96      0.96       463\n",
      "                                Tomato___Leaf_Mold       0.98      0.96      0.97       470\n",
      "                       Tomato___Septoria_leaf_spot       0.95      0.90      0.93       436\n",
      "     Tomato___Spider_mites Two-spotted_spider_mite       0.98      0.83      0.90       435\n",
      "                              Tomato___Target_Spot       0.80      0.93      0.86       457\n",
      "            Tomato___Tomato_Yellow_Leaf_Curl_Virus       1.00      0.98      0.99       490\n",
      "                      Tomato___Tomato_mosaic_virus       0.98      0.99      0.98       448\n",
      "                                  Tomato___healthy       0.94      1.00      0.97       481\n",
      "\n",
      "                                          accuracy                           0.98     17572\n",
      "                                         macro avg       0.98      0.98      0.98     17572\n",
      "                                      weighted avg       0.98      0.98      0.98     17572\n",
      "\n"
     ]
    }
   ],
   "source": [
    "# Generate predictions for classification report\n",
    "valid_generator.reset()\n",
    "predictions = model.predict(valid_generator, verbose=1)\n",
    "predicted_classes = np.argmax(predictions, axis=1)\n",
    "true_classes = valid_generator.classes\n",
    "\n",
    "# Classification report\n",
    "print(\"Classification Report:\")\n",
    "print(classification_report(true_classes, predicted_classes, target_names=class_names))"
   ]
  },
  {
   "cell_type": "code",
   "execution_count": 13,
   "metadata": {},
   "outputs": [
    {
     "name": "stderr",
     "output_type": "stream",
     "text": [
      "WARNING:absl:You are saving your model as an HDF5 file via `model.save()` or `keras.saving.save_model(model)`. This file format is considered legacy. We recommend using instead the native Keras format, e.g. `model.save('my_model.keras')` or `keras.saving.save_model(model, 'my_model.keras')`. \n"
     ]
    },
    {
     "name": "stdout",
     "output_type": "stream",
     "text": [
      "Model saved to: ../models/plant_disease_model.h5\n",
      "Class names saved to: ../models/plant_disease_classes.pkl\n"
     ]
    }
   ],
   "source": [
    "# Save the model and class names\n",
    "model_path = '../models/plant_disease_model.h5'\n",
    "class_names_path = '../models/plant_disease_classes.pkl'\n",
    "\n",
    "model.save(model_path)\n",
    "joblib.dump(class_names, class_names_path)\n",
    "\n",
    "print(f\"Model saved to: {model_path}\")\n",
    "print(f\"Class names saved to: {class_names_path}\")"
   ]
  },
  {
   "cell_type": "code",
   "execution_count": 14,
   "metadata": {},
   "outputs": [
    {
     "name": "stdout",
     "output_type": "stream",
     "text": [
      "Prediction utility saved to: ../models/plant_disease_predictor.py\n"
     ]
    }
   ],
   "source": [
    "# Create prediction function\n",
    "def predict_disease(image_path, model, class_names):\n",
    "    \"\"\"\n",
    "    Predict plant disease from image\n",
    "    \"\"\"\n",
    "    from tensorflow.keras.preprocessing import image\n",
    "    \n",
    "    # Load and preprocess image\n",
    "    img = image.load_img(image_path, target_size=(IMG_SIZE, IMG_SIZE))\n",
    "    img_array = image.img_to_array(img)\n",
    "    img_array = np.expand_dims(img_array, axis=0)\n",
    "    img_array /= 255.0\n",
    "    \n",
    "    # Make prediction\n",
    "    predictions = model.predict(img_array)\n",
    "    predicted_class_idx = np.argmax(predictions[0])\n",
    "    confidence = predictions[0][predicted_class_idx]\n",
    "    \n",
    "    predicted_class = class_names[predicted_class_idx]\n",
    "    \n",
    "    return predicted_class, confidence\n",
    "\n",
    "# Save prediction function\n",
    "prediction_code = '''\n",
    "import tensorflow as tf\n",
    "import numpy as np\n",
    "import joblib\n",
    "from tensorflow.keras.preprocessing import image\n",
    "\n",
    "def load_plant_disease_model():\n",
    "    \"\"\"Load the trained plant disease detection model\"\"\"\n",
    "    model = tf.keras.models.load_model('../models/plant_disease_model.h5')\n",
    "    class_names = joblib.load('../models/plant_disease_classes.pkl')\n",
    "    return model, class_names\n",
    "\n",
    "def predict_plant_disease(image_path):\n",
    "    \"\"\"Predict plant disease from image path\"\"\"\n",
    "    model, class_names = load_plant_disease_model()\n",
    "    \n",
    "    # Load and preprocess image\n",
    "    img = image.load_img(image_path, target_size=(224, 224))\n",
    "    img_array = image.img_to_array(img)\n",
    "    img_array = np.expand_dims(img_array, axis=0)\n",
    "    img_array /= 255.0\n",
    "    \n",
    "    # Make prediction\n",
    "    predictions = model.predict(img_array)\n",
    "    predicted_class_idx = np.argmax(predictions[0])\n",
    "    confidence = predictions[0][predicted_class_idx]\n",
    "    \n",
    "    predicted_class = class_names[predicted_class_idx]\n",
    "    \n",
    "    return {\n",
    "        \"disease\": predicted_class,\n",
    "        \"confidence\": float(confidence),\n",
    "        \"all_predictions\": {class_names[i]: float(predictions[0][i]) for i in range(len(class_names))}\n",
    "    }\n",
    "'''\n",
    "\n",
    "with open('../models/plant_disease_predictor.py', 'w') as f:\n",
    "    f.write(prediction_code)\n",
    "\n",
    "print(\"Prediction utility saved to: ../models/plant_disease_predictor.py\")"
   ]
  },
  {
   "cell_type": "code",
   "execution_count": 15,
   "metadata": {},
   "outputs": [
    {
     "name": "stdout",
     "output_type": "stream",
     "text": [
      "Testing predictions on sample images:\n",
      "\u001b[1m1/1\u001b[0m \u001b[32m━━━━━━━━━━━━━━━━━━━━\u001b[0m\u001b[37m\u001b[0m \u001b[1m0s\u001b[0m 381ms/step\n",
      "AppleScab3.JPG: Apple___Apple_scab (Confidence: 1.000)\n",
      "\u001b[1m1/1\u001b[0m \u001b[32m━━━━━━━━━━━━━━━━━━━━\u001b[0m\u001b[37m\u001b[0m \u001b[1m0s\u001b[0m 23ms/step\n",
      "TomatoEarlyBlight2.JPG: Tomato___Early_blight (Confidence: 0.457)\n",
      "\u001b[1m1/1\u001b[0m \u001b[32m━━━━━━━━━━━━━━━━━━━━\u001b[0m\u001b[37m\u001b[0m \u001b[1m0s\u001b[0m 22ms/step\n",
      "TomatoEarlyBlight3.JPG: Tomato___Target_Spot (Confidence: 0.422)\n",
      "\u001b[1m1/1\u001b[0m \u001b[32m━━━━━━━━━━━━━━━━━━━━\u001b[0m\u001b[37m\u001b[0m \u001b[1m0s\u001b[0m 23ms/step\n",
      "PotatoHealthy1.JPG: Potato___healthy (Confidence: 1.000)\n",
      "\u001b[1m1/1\u001b[0m \u001b[32m━━━━━━━━━━━━━━━━━━━━\u001b[0m\u001b[37m\u001b[0m \u001b[1m0s\u001b[0m 23ms/step\n",
      "AppleScab2.JPG: Apple___Apple_scab (Confidence: 1.000)\n"
     ]
    }
   ],
   "source": [
    "# Test prediction on sample images\n",
    "test_images_path = '../dataset/Plant Diseases Dataset/test/test'\n",
    "test_images = os.listdir(test_images_path)[:5]  # Test first 5 images\n",
    "\n",
    "print(\"Testing predictions on sample images:\")\n",
    "for img_name in test_images:\n",
    "    img_path = os.path.join(test_images_path, img_name)\n",
    "    predicted_class, confidence = predict_disease(img_path, model, class_names)\n",
    "    print(f\"{img_name}: {predicted_class} (Confidence: {confidence:.3f})\")"
   ]
  },
  {
   "cell_type": "code",
   "execution_count": 16,
   "metadata": {},
   "outputs": [
    {
     "name": "stdout",
     "output_type": "stream",
     "text": [
      "\n",
      "=== PLANT DISEASE DETECTION MODEL SUMMARY ===\n",
      "Model Architecture: MobileNetV2 + Custom Classifier\n",
      "Input Size: 224x224x3\n",
      "Number of Classes: 38\n",
      "Training Samples: 70295\n",
      "Validation Samples: 17572\n",
      "Final Accuracy: 0.9768\n",
      "Model Size: 30.9 MB\n",
      "\n",
      "Model saved at: ../models/plant_disease_model.h5\n",
      "Classes saved at: ../models/plant_disease_classes.pkl\n",
      "Predictor utility: ../models/plant_disease_predictor.py\n"
     ]
    }
   ],
   "source": [
    "# Model summary and performance metrics\n",
    "print(\"\\n=== PLANT DISEASE DETECTION MODEL SUMMARY ===\")\n",
    "print(f\"Model Architecture: MobileNetV2 + Custom Classifier\")\n",
    "print(f\"Input Size: {IMG_SIZE}x{IMG_SIZE}x3\")\n",
    "print(f\"Number of Classes: {NUM_CLASSES}\")\n",
    "print(f\"Training Samples: {train_generator.samples}\")\n",
    "print(f\"Validation Samples: {valid_generator.samples}\")\n",
    "print(f\"Final Accuracy: {test_accuracy:.4f}\")\n",
    "print(f\"Model Size: {os.path.getsize(model_path) / (1024*1024):.1f} MB\")\n",
    "print(f\"\\nModel saved at: {model_path}\")\n",
    "print(f\"Classes saved at: {class_names_path}\")\n",
    "print(f\"Predictor utility: ../models/plant_disease_predictor.py\")"
   ]
  }
 ],
 "metadata": {
  "kernelspec": {
   "display_name": ".venv",
   "language": "python",
   "name": "python3"
  },
  "language_info": {
   "codemirror_mode": {
    "name": "ipython",
    "version": 3
   },
   "file_extension": ".py",
   "mimetype": "text/x-python",
   "name": "python",
   "nbconvert_exporter": "python",
   "pygments_lexer": "ipython3",
   "version": "3.13.7"
  }
 },
 "nbformat": 4,
 "nbformat_minor": 4
}
