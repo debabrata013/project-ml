{
 "cells": [
  {
   "cell_type": "code",
   "execution_count": 9,
   "id": "7f16ae26",
   "metadata": {},
   "outputs": [],
   "source": [
    "import pandas as pd\n",
    "import numpy as np\n",
    "import matplotlib.pyplot as plt\n",
    "import seaborn as sns\n",
    "\n",
    "from sklearn.model_selection import train_test_split\n",
    "from sklearn.preprocessing import LabelEncoder\n",
    "from sklearn.ensemble import RandomForestRegressor\n",
    "from sklearn.metrics import mean_squared_error, r2_score\n",
    "import joblib\n"
   ]
  },
  {
   "cell_type": "markdown",
   "id": "a01f42d6",
   "metadata": {},
   "source": [
    "<H1>Load Dataset"
   ]
  },
  {
   "cell_type": "code",
   "execution_count": 10,
   "id": "16698a46",
   "metadata": {},
   "outputs": [
    {
     "name": "stdout",
     "output_type": "stream",
     "text": [
      "Loaded ../dataset/Agriculture Crop Production/datafile (1).csv: (49, 7)\n",
      "Loaded ../dataset/Agriculture Crop Production/datafile.csv: (13, 10)\n",
      "Loaded ../dataset/Agriculture Crop Production/datafile (2).csv: (55, 17)\n",
      "Loaded ../dataset/Agriculture Crop Production/produce.csv: (429, 26)\n",
      "Loaded ../dataset/Agriculture Crop Production/datafile (3).csv: (78, 6)\n",
      "\n",
      "Using main dataset with yield data:\n",
      "Dataset shape: (49, 6)\n",
      "Columns: ['Crop', 'State', 'Cost of Cultivation (`/Hectare) A2+FL', 'Cost of Cultivation (`/Hectare) C2', 'Cost of Production (`/Quintal) C2', 'Yield (Quintal/ Hectare) ']\n"
     ]
    },
    {
     "data": {
      "text/html": [
       "<div>\n",
       "<style scoped>\n",
       "    .dataframe tbody tr th:only-of-type {\n",
       "        vertical-align: middle;\n",
       "    }\n",
       "\n",
       "    .dataframe tbody tr th {\n",
       "        vertical-align: top;\n",
       "    }\n",
       "\n",
       "    .dataframe thead th {\n",
       "        text-align: right;\n",
       "    }\n",
       "</style>\n",
       "<table border=\"1\" class=\"dataframe\">\n",
       "  <thead>\n",
       "    <tr style=\"text-align: right;\">\n",
       "      <th></th>\n",
       "      <th>Crop</th>\n",
       "      <th>State</th>\n",
       "      <th>Cost of Cultivation (`/Hectare) A2+FL</th>\n",
       "      <th>Cost of Cultivation (`/Hectare) C2</th>\n",
       "      <th>Cost of Production (`/Quintal) C2</th>\n",
       "      <th>Yield (Quintal/ Hectare)</th>\n",
       "    </tr>\n",
       "  </thead>\n",
       "  <tbody>\n",
       "    <tr>\n",
       "      <th>0</th>\n",
       "      <td>ARHAR</td>\n",
       "      <td>Uttar Pradesh</td>\n",
       "      <td>9794.05</td>\n",
       "      <td>23076.74</td>\n",
       "      <td>1941.55</td>\n",
       "      <td>9.83</td>\n",
       "    </tr>\n",
       "    <tr>\n",
       "      <th>1</th>\n",
       "      <td>ARHAR</td>\n",
       "      <td>Karnataka</td>\n",
       "      <td>10593.15</td>\n",
       "      <td>16528.68</td>\n",
       "      <td>2172.46</td>\n",
       "      <td>7.47</td>\n",
       "    </tr>\n",
       "    <tr>\n",
       "      <th>2</th>\n",
       "      <td>ARHAR</td>\n",
       "      <td>Gujarat</td>\n",
       "      <td>13468.82</td>\n",
       "      <td>19551.90</td>\n",
       "      <td>1898.30</td>\n",
       "      <td>9.59</td>\n",
       "    </tr>\n",
       "    <tr>\n",
       "      <th>3</th>\n",
       "      <td>ARHAR</td>\n",
       "      <td>Andhra Pradesh</td>\n",
       "      <td>17051.66</td>\n",
       "      <td>24171.65</td>\n",
       "      <td>3670.54</td>\n",
       "      <td>6.42</td>\n",
       "    </tr>\n",
       "    <tr>\n",
       "      <th>4</th>\n",
       "      <td>ARHAR</td>\n",
       "      <td>Maharashtra</td>\n",
       "      <td>17130.55</td>\n",
       "      <td>25270.26</td>\n",
       "      <td>2775.80</td>\n",
       "      <td>8.72</td>\n",
       "    </tr>\n",
       "  </tbody>\n",
       "</table>\n",
       "</div>"
      ],
      "text/plain": [
       "    Crop           State  Cost of Cultivation (`/Hectare) A2+FL  \\\n",
       "0  ARHAR   Uttar Pradesh                                9794.05   \n",
       "1  ARHAR       Karnataka                               10593.15   \n",
       "2  ARHAR         Gujarat                               13468.82   \n",
       "3  ARHAR  Andhra Pradesh                               17051.66   \n",
       "4  ARHAR     Maharashtra                               17130.55   \n",
       "\n",
       "   Cost of Cultivation (`/Hectare) C2  Cost of Production (`/Quintal) C2  \\\n",
       "0                            23076.74                            1941.55   \n",
       "1                            16528.68                            2172.46   \n",
       "2                            19551.90                            1898.30   \n",
       "3                            24171.65                            3670.54   \n",
       "4                            25270.26                            2775.80   \n",
       "\n",
       "   Yield (Quintal/ Hectare)   \n",
       "0                       9.83  \n",
       "1                       7.47  \n",
       "2                       9.59  \n",
       "3                       6.42  \n",
       "4                       8.72  "
      ]
     },
     "execution_count": 10,
     "metadata": {},
     "output_type": "execute_result"
    }
   ],
   "source": [
    "import glob\n",
    "import os\n",
    "\n",
    "# Load and combine all CSV files\n",
    "csv_files = glob.glob(\"../dataset/Agriculture Crop Production/*.csv\")\n",
    "dataframes = []\n",
    "\n",
    "for file in csv_files:\n",
    "    try:\n",
    "        temp_df = pd.read_csv(file)\n",
    "        temp_df['source_file'] = os.path.basename(file)\n",
    "        dataframes.append(temp_df)\n",
    "        print(f\"Loaded {file}: {temp_df.shape}\")\n",
    "    except Exception as e:\n",
    "        print(f\"Error loading {file}: {e}\")\n",
    "\n",
    "# Use the main dataset with yield information\n",
    "df = pd.read_csv(\"../dataset/Agriculture Crop Production/datafile (1).csv\")\n",
    "print(\"\\nUsing main dataset with yield data:\")\n",
    "print(\"Dataset shape:\", df.shape)\n",
    "print(\"Columns:\", df.columns.tolist())\n",
    "df.head()"
   ]
  },
  {
   "cell_type": "markdown",
   "id": "481ac284",
   "metadata": {},
   "source": [
    "# Clean Data"
   ]
  },
  {
   "cell_type": "code",
   "execution_count": 11,
   "id": "explore_data",
   "metadata": {},
   "outputs": [
    {
     "name": "stdout",
     "output_type": "stream",
     "text": [
      "Dataset Info:\n",
      "<class 'pandas.core.frame.DataFrame'>\n",
      "RangeIndex: 49 entries, 0 to 48\n",
      "Data columns (total 6 columns):\n",
      " #   Column                                 Non-Null Count  Dtype  \n",
      "---  ------                                 --------------  -----  \n",
      " 0   Crop                                   49 non-null     object \n",
      " 1   State                                  49 non-null     object \n",
      " 2   Cost of Cultivation (`/Hectare) A2+FL  49 non-null     float64\n",
      " 3   Cost of Cultivation (`/Hectare) C2     49 non-null     float64\n",
      " 4   Cost of Production (`/Quintal) C2      49 non-null     float64\n",
      " 5   Yield (Quintal/ Hectare)               49 non-null     float64\n",
      "dtypes: float64(4), object(2)\n",
      "memory usage: 2.4+ KB\n",
      "None\n",
      "\n",
      "Basic Statistics:\n",
      "       Cost of Cultivation (`/Hectare) A2+FL  \\\n",
      "count                              49.000000   \n",
      "mean                            20363.537347   \n",
      "std                             13561.435306   \n",
      "min                              5483.540000   \n",
      "25%                             12774.410000   \n",
      "50%                             17022.000000   \n",
      "75%                             24731.060000   \n",
      "max                             66335.060000   \n",
      "\n",
      "       Cost of Cultivation (`/Hectare) C2  Cost of Production (`/Quintal) C2  \\\n",
      "count                           49.000000                          49.000000   \n",
      "mean                         31364.666735                        1620.537755   \n",
      "std                          20095.783569                        1104.990472   \n",
      "min                           7868.640000                          85.790000   \n",
      "25%                          19259.840000                         732.620000   \n",
      "50%                          25909.050000                        1595.560000   \n",
      "75%                          35423.480000                        2228.970000   \n",
      "max                          91442.630000                        5777.480000   \n",
      "\n",
      "       Yield (Quintal/ Hectare)   \n",
      "count                  49.000000  \n",
      "mean                   98.086735  \n",
      "std                   245.293123  \n",
      "min                     1.320000  \n",
      "25%                     9.590000  \n",
      "50%                    13.700000  \n",
      "75%                    36.610000  \n",
      "max                  1015.450000  \n",
      "\n",
      "Unique Crops: 10\n",
      "Unique States: 13\n",
      "\n",
      "Crops: ['ARHAR' 'COTTON' 'GRAM' 'GROUNDNUT' 'MAIZE' 'MOONG' 'PADDY'\n",
      " 'RAPESEED AND MUSTARD' 'SUGARCANE' 'WHEAT']\n",
      "\n",
      "States: ['Uttar Pradesh' 'Karnataka' 'Gujarat' 'Andhra Pradesh' 'Maharashtra'\n",
      " 'Punjab' 'Haryana' 'Rajasthan' 'Madhya Pradesh' 'Tamil Nadu']\n"
     ]
    }
   ],
   "source": [
    "# Basic statistics\n",
    "print(\"Dataset Info:\")\n",
    "print(df.info())\n",
    "print(\"\\nBasic Statistics:\")\n",
    "print(df.describe())\n",
    "\n",
    "# Check unique values in categorical columns\n",
    "print(f\"\\nUnique Crops: {df['Crop'].nunique()}\")\n",
    "print(f\"Unique States: {df['State'].nunique()}\")\n",
    "print(\"\\nCrops:\", df['Crop'].unique()[:10])  # Show first 10\n",
    "print(\"\\nStates:\", df['State'].unique()[:10])  # Show first 10"
   ]
  },
  {
   "cell_type": "code",
   "execution_count": 12,
   "id": "496aa042",
   "metadata": {},
   "outputs": [
    {
     "name": "stdout",
     "output_type": "stream",
     "text": [
      "Cleaned columns: ['Crop', 'State', 'Cost of Cultivation (/Hectare) A2+FL', 'Cost of Cultivation (/Hectare) C2', 'Cost of Production (/Quintal) C2', 'Yield (Quintal/ Hectare)']\n",
      "Renamed yield column to 'Yield'\n",
      "Data shape after cleaning: (49, 6)\n"
     ]
    },
    {
     "data": {
      "text/html": [
       "<div>\n",
       "<style scoped>\n",
       "    .dataframe tbody tr th:only-of-type {\n",
       "        vertical-align: middle;\n",
       "    }\n",
       "\n",
       "    .dataframe tbody tr th {\n",
       "        vertical-align: top;\n",
       "    }\n",
       "\n",
       "    .dataframe thead th {\n",
       "        text-align: right;\n",
       "    }\n",
       "</style>\n",
       "<table border=\"1\" class=\"dataframe\">\n",
       "  <thead>\n",
       "    <tr style=\"text-align: right;\">\n",
       "      <th></th>\n",
       "      <th>Crop</th>\n",
       "      <th>State</th>\n",
       "      <th>Cost of Cultivation (/Hectare) A2+FL</th>\n",
       "      <th>Cost of Cultivation (/Hectare) C2</th>\n",
       "      <th>Cost of Production (/Quintal) C2</th>\n",
       "      <th>Yield</th>\n",
       "    </tr>\n",
       "  </thead>\n",
       "  <tbody>\n",
       "    <tr>\n",
       "      <th>0</th>\n",
       "      <td>ARHAR</td>\n",
       "      <td>Uttar Pradesh</td>\n",
       "      <td>9794.05</td>\n",
       "      <td>23076.74</td>\n",
       "      <td>1941.55</td>\n",
       "      <td>9.83</td>\n",
       "    </tr>\n",
       "    <tr>\n",
       "      <th>1</th>\n",
       "      <td>ARHAR</td>\n",
       "      <td>Karnataka</td>\n",
       "      <td>10593.15</td>\n",
       "      <td>16528.68</td>\n",
       "      <td>2172.46</td>\n",
       "      <td>7.47</td>\n",
       "    </tr>\n",
       "    <tr>\n",
       "      <th>2</th>\n",
       "      <td>ARHAR</td>\n",
       "      <td>Gujarat</td>\n",
       "      <td>13468.82</td>\n",
       "      <td>19551.90</td>\n",
       "      <td>1898.30</td>\n",
       "      <td>9.59</td>\n",
       "    </tr>\n",
       "    <tr>\n",
       "      <th>3</th>\n",
       "      <td>ARHAR</td>\n",
       "      <td>Andhra Pradesh</td>\n",
       "      <td>17051.66</td>\n",
       "      <td>24171.65</td>\n",
       "      <td>3670.54</td>\n",
       "      <td>6.42</td>\n",
       "    </tr>\n",
       "    <tr>\n",
       "      <th>4</th>\n",
       "      <td>ARHAR</td>\n",
       "      <td>Maharashtra</td>\n",
       "      <td>17130.55</td>\n",
       "      <td>25270.26</td>\n",
       "      <td>2775.80</td>\n",
       "      <td>8.72</td>\n",
       "    </tr>\n",
       "  </tbody>\n",
       "</table>\n",
       "</div>"
      ],
      "text/plain": [
       "    Crop           State  Cost of Cultivation (/Hectare) A2+FL  \\\n",
       "0  ARHAR   Uttar Pradesh                               9794.05   \n",
       "1  ARHAR       Karnataka                              10593.15   \n",
       "2  ARHAR         Gujarat                              13468.82   \n",
       "3  ARHAR  Andhra Pradesh                              17051.66   \n",
       "4  ARHAR     Maharashtra                              17130.55   \n",
       "\n",
       "   Cost of Cultivation (/Hectare) C2  Cost of Production (/Quintal) C2  Yield  \n",
       "0                           23076.74                           1941.55   9.83  \n",
       "1                           16528.68                           2172.46   7.47  \n",
       "2                           19551.90                           1898.30   9.59  \n",
       "3                           24171.65                           3670.54   6.42  \n",
       "4                           25270.26                           2775.80   8.72  "
      ]
     },
     "execution_count": 12,
     "metadata": {},
     "output_type": "execute_result"
    }
   ],
   "source": [
    "# Clean column names and fix the yield column issue\n",
    "df.columns = df.columns.str.strip().str.replace('`', '')\n",
    "print(\"Cleaned columns:\", df.columns.tolist())\n",
    "\n",
    "# Rename the yield column properly\n",
    "yield_col = [col for col in df.columns if 'Yield' in col][0]\n",
    "df = df.rename(columns={yield_col: 'Yield'})\n",
    "print(\"Renamed yield column to 'Yield'\")\n",
    "\n",
    "# Remove rows with missing values\n",
    "df = df.dropna()\n",
    "\n",
    "# Convert numeric columns\n",
    "numeric_cols = ['Cost of Cultivation (/Hectare) A2+FL', 'Cost of Cultivation (/Hectare) C2', \n",
    "                'Cost of Production (/Quintal) C2', 'Yield']\n",
    "for col in numeric_cols:\n",
    "    df[col] = pd.to_numeric(df[col], errors='coerce')\n",
    "\n",
    "df = df.dropna()\n",
    "print(f\"Data shape after cleaning: {df.shape}\")\n",
    "df.head()"
   ]
  },
  {
   "cell_type": "markdown",
   "id": "729f3260",
   "metadata": {},
   "source": [
    "Select Important Columns "
   ]
  },
  {
   "cell_type": "code",
   "execution_count": 13,
   "id": "90f7a8ff",
   "metadata": {},
   "outputs": [
    {
     "name": "stdout",
     "output_type": "stream",
     "text": [
      "Selected columns: ['Crop', 'State', 'Cost of Cultivation (/Hectare) A2+FL', 'Cost of Cultivation (/Hectare) C2', 'Cost of Production (/Quintal) C2', 'Yield']\n"
     ]
    },
    {
     "data": {
      "text/html": [
       "<div>\n",
       "<style scoped>\n",
       "    .dataframe tbody tr th:only-of-type {\n",
       "        vertical-align: middle;\n",
       "    }\n",
       "\n",
       "    .dataframe tbody tr th {\n",
       "        vertical-align: top;\n",
       "    }\n",
       "\n",
       "    .dataframe thead th {\n",
       "        text-align: right;\n",
       "    }\n",
       "</style>\n",
       "<table border=\"1\" class=\"dataframe\">\n",
       "  <thead>\n",
       "    <tr style=\"text-align: right;\">\n",
       "      <th></th>\n",
       "      <th>Crop</th>\n",
       "      <th>State</th>\n",
       "      <th>Cost of Cultivation (/Hectare) A2+FL</th>\n",
       "      <th>Cost of Cultivation (/Hectare) C2</th>\n",
       "      <th>Cost of Production (/Quintal) C2</th>\n",
       "      <th>Yield</th>\n",
       "    </tr>\n",
       "  </thead>\n",
       "  <tbody>\n",
       "    <tr>\n",
       "      <th>0</th>\n",
       "      <td>ARHAR</td>\n",
       "      <td>Uttar Pradesh</td>\n",
       "      <td>9794.05</td>\n",
       "      <td>23076.74</td>\n",
       "      <td>1941.55</td>\n",
       "      <td>9.83</td>\n",
       "    </tr>\n",
       "    <tr>\n",
       "      <th>1</th>\n",
       "      <td>ARHAR</td>\n",
       "      <td>Karnataka</td>\n",
       "      <td>10593.15</td>\n",
       "      <td>16528.68</td>\n",
       "      <td>2172.46</td>\n",
       "      <td>7.47</td>\n",
       "    </tr>\n",
       "    <tr>\n",
       "      <th>2</th>\n",
       "      <td>ARHAR</td>\n",
       "      <td>Gujarat</td>\n",
       "      <td>13468.82</td>\n",
       "      <td>19551.90</td>\n",
       "      <td>1898.30</td>\n",
       "      <td>9.59</td>\n",
       "    </tr>\n",
       "    <tr>\n",
       "      <th>3</th>\n",
       "      <td>ARHAR</td>\n",
       "      <td>Andhra Pradesh</td>\n",
       "      <td>17051.66</td>\n",
       "      <td>24171.65</td>\n",
       "      <td>3670.54</td>\n",
       "      <td>6.42</td>\n",
       "    </tr>\n",
       "    <tr>\n",
       "      <th>4</th>\n",
       "      <td>ARHAR</td>\n",
       "      <td>Maharashtra</td>\n",
       "      <td>17130.55</td>\n",
       "      <td>25270.26</td>\n",
       "      <td>2775.80</td>\n",
       "      <td>8.72</td>\n",
       "    </tr>\n",
       "  </tbody>\n",
       "</table>\n",
       "</div>"
      ],
      "text/plain": [
       "    Crop           State  Cost of Cultivation (/Hectare) A2+FL  \\\n",
       "0  ARHAR   Uttar Pradesh                               9794.05   \n",
       "1  ARHAR       Karnataka                              10593.15   \n",
       "2  ARHAR         Gujarat                              13468.82   \n",
       "3  ARHAR  Andhra Pradesh                              17051.66   \n",
       "4  ARHAR     Maharashtra                              17130.55   \n",
       "\n",
       "   Cost of Cultivation (/Hectare) C2  Cost of Production (/Quintal) C2  Yield  \n",
       "0                           23076.74                           1941.55   9.83  \n",
       "1                           16528.68                           2172.46   7.47  \n",
       "2                           19551.90                           1898.30   9.59  \n",
       "3                           24171.65                           3670.54   6.42  \n",
       "4                           25270.26                           2775.80   8.72  "
      ]
     },
     "execution_count": 13,
     "metadata": {},
     "output_type": "execute_result"
    }
   ],
   "source": [
    "# Select relevant columns for prediction\n",
    "df = df[['Crop', 'State', 'Cost of Cultivation (/Hectare) A2+FL', \n",
    "         'Cost of Cultivation (/Hectare) C2', 'Cost of Production (/Quintal) C2', 'Yield']]\n",
    "print(\"Selected columns:\", df.columns.tolist())\n",
    "df.head()"
   ]
  },
  {
   "cell_type": "markdown",
   "id": "6d92a1f9",
   "metadata": {},
   "source": [
    "Encode Categorical Columns"
   ]
  },
  {
   "cell_type": "code",
   "execution_count": 14,
   "id": "a7cbf270",
   "metadata": {},
   "outputs": [
    {
     "name": "stdout",
     "output_type": "stream",
     "text": [
      "Encoded categorical variables\n"
     ]
    },
    {
     "data": {
      "text/html": [
       "<div>\n",
       "<style scoped>\n",
       "    .dataframe tbody tr th:only-of-type {\n",
       "        vertical-align: middle;\n",
       "    }\n",
       "\n",
       "    .dataframe tbody tr th {\n",
       "        vertical-align: top;\n",
       "    }\n",
       "\n",
       "    .dataframe thead th {\n",
       "        text-align: right;\n",
       "    }\n",
       "</style>\n",
       "<table border=\"1\" class=\"dataframe\">\n",
       "  <thead>\n",
       "    <tr style=\"text-align: right;\">\n",
       "      <th></th>\n",
       "      <th>Crop</th>\n",
       "      <th>State</th>\n",
       "      <th>Cost of Cultivation (/Hectare) A2+FL</th>\n",
       "      <th>Cost of Cultivation (/Hectare) C2</th>\n",
       "      <th>Cost of Production (/Quintal) C2</th>\n",
       "      <th>Yield</th>\n",
       "    </tr>\n",
       "  </thead>\n",
       "  <tbody>\n",
       "    <tr>\n",
       "      <th>0</th>\n",
       "      <td>0</td>\n",
       "      <td>11</td>\n",
       "      <td>9794.05</td>\n",
       "      <td>23076.74</td>\n",
       "      <td>1941.55</td>\n",
       "      <td>9.83</td>\n",
       "    </tr>\n",
       "    <tr>\n",
       "      <th>1</th>\n",
       "      <td>0</td>\n",
       "      <td>4</td>\n",
       "      <td>10593.15</td>\n",
       "      <td>16528.68</td>\n",
       "      <td>2172.46</td>\n",
       "      <td>7.47</td>\n",
       "    </tr>\n",
       "    <tr>\n",
       "      <th>2</th>\n",
       "      <td>0</td>\n",
       "      <td>2</td>\n",
       "      <td>13468.82</td>\n",
       "      <td>19551.90</td>\n",
       "      <td>1898.30</td>\n",
       "      <td>9.59</td>\n",
       "    </tr>\n",
       "    <tr>\n",
       "      <th>3</th>\n",
       "      <td>0</td>\n",
       "      <td>0</td>\n",
       "      <td>17051.66</td>\n",
       "      <td>24171.65</td>\n",
       "      <td>3670.54</td>\n",
       "      <td>6.42</td>\n",
       "    </tr>\n",
       "    <tr>\n",
       "      <th>4</th>\n",
       "      <td>0</td>\n",
       "      <td>6</td>\n",
       "      <td>17130.55</td>\n",
       "      <td>25270.26</td>\n",
       "      <td>2775.80</td>\n",
       "      <td>8.72</td>\n",
       "    </tr>\n",
       "  </tbody>\n",
       "</table>\n",
       "</div>"
      ],
      "text/plain": [
       "   Crop  State  Cost of Cultivation (/Hectare) A2+FL  \\\n",
       "0     0     11                               9794.05   \n",
       "1     0      4                              10593.15   \n",
       "2     0      2                              13468.82   \n",
       "3     0      0                              17051.66   \n",
       "4     0      6                              17130.55   \n",
       "\n",
       "   Cost of Cultivation (/Hectare) C2  Cost of Production (/Quintal) C2  Yield  \n",
       "0                           23076.74                           1941.55   9.83  \n",
       "1                           16528.68                           2172.46   7.47  \n",
       "2                           19551.90                           1898.30   9.59  \n",
       "3                           24171.65                           3670.54   6.42  \n",
       "4                           25270.26                           2775.80   8.72  "
      ]
     },
     "execution_count": 14,
     "metadata": {},
     "output_type": "execute_result"
    }
   ],
   "source": [
    "# Encode categorical columns\n",
    "label_encoders = {}\n",
    "for col in ['Crop', 'State']:\n",
    "    le = LabelEncoder()\n",
    "    df[col] = le.fit_transform(df[col])\n",
    "    label_encoders[col] = le\n",
    "\n",
    "print(\"Encoded categorical variables\")\n",
    "df.head()"
   ]
  },
  {
   "cell_type": "markdown",
   "id": "e84f5544",
   "metadata": {},
   "source": [
    "Train-Test Split"
   ]
  },
  {
   "cell_type": "code",
   "execution_count": 15,
   "id": "109b6b32",
   "metadata": {},
   "outputs": [
    {
     "name": "stdout",
     "output_type": "stream",
     "text": [
      "Training set: (39, 5), Test set: (10, 5)\n"
     ]
    }
   ],
   "source": [
    "# Prepare features and target\n",
    "X = df[['Crop', 'State', 'Cost of Cultivation (/Hectare) A2+FL', \n",
    "        'Cost of Cultivation (/Hectare) C2', 'Cost of Production (/Quintal) C2']]\n",
    "y = df['Yield']\n",
    "\n",
    "X_train, X_test, y_train, y_test = train_test_split(X, y, test_size=0.2, random_state=42)\n",
    "print(f\"Training set: {X_train.shape}, Test set: {X_test.shape}\")"
   ]
  },
  {
   "cell_type": "markdown",
   "id": "3ffd05ea",
   "metadata": {},
   "source": [
    "Train Model\n"
   ]
  },
  {
   "cell_type": "code",
   "execution_count": 16,
   "id": "c7b3855f",
   "metadata": {},
   "outputs": [
    {
     "name": "stdout",
     "output_type": "stream",
     "text": [
      "Model trained successfully\n"
     ]
    }
   ],
   "source": [
    "# Train Random Forest model\n",
    "model = RandomForestRegressor(n_estimators=100, random_state=42)\n",
    "model.fit(X_train, y_train)\n",
    "print(\"Model trained successfully\")"
   ]
  },
  {
   "cell_type": "markdown",
   "id": "d1e84a70",
   "metadata": {},
   "source": [
    "Evaluate Model"
   ]
  },
  {
   "cell_type": "code",
   "execution_count": 17,
   "id": "6aa25a0f",
   "metadata": {},
   "outputs": [
    {
     "name": "stdout",
     "output_type": "stream",
     "text": [
      "RMSE: 71.2320\n",
      "R² Score: 0.9438\n",
      "\n",
      "Feature Importance:\n",
      "           feature  importance\n",
      "4  Production Cost    0.703426\n",
      "2       Cost A2+FL    0.133309\n",
      "3          Cost C2    0.122378\n",
      "0             Crop    0.027474\n",
      "1            State    0.013412\n"
     ]
    }
   ],
   "source": [
    "# Make predictions and evaluate\n",
    "y_pred = model.predict(X_test)\n",
    "\n",
    "rmse = np.sqrt(mean_squared_error(y_test, y_pred))\n",
    "r2 = r2_score(y_test, y_pred)\n",
    "\n",
    "print(f\"RMSE: {rmse:.4f}\")\n",
    "print(f\"R² Score: {r2:.4f}\")\n",
    "\n",
    "# Feature importance\n",
    "feature_names = ['Crop', 'State', 'Cost A2+FL', 'Cost C2', 'Production Cost']\n",
    "importance = pd.DataFrame({\n",
    "    'feature': feature_names,\n",
    "    'importance': model.feature_importances_\n",
    "}).sort_values('importance', ascending=False)\n",
    "\n",
    "print(\"\\nFeature Importance:\")\n",
    "print(importance)"
   ]
  },
  {
   "cell_type": "code",
   "execution_count": 18,
   "id": "c12eb841",
   "metadata": {},
   "outputs": [
    {
     "name": "stdout",
     "output_type": "stream",
     "text": [
      "Model and encoders saved successfully\n"
     ]
    }
   ],
   "source": [
    "# Create models directory if it doesn't exist\n",
    "import os\n",
    "os.makedirs('../models', exist_ok=True)\n",
    "\n",
    "# Save model and encoders\n",
    "joblib.dump(model, '../models/yield_model.pkl')\n",
    "joblib.dump(label_encoders, '../models/label_encoders.pkl')\n",
    "print(\"Model and encoders saved successfully\")"
   ]
  },
  {
   "cell_type": "markdown",
   "id": "5d949446",
   "metadata": {},
   "source": [
    "Plot Prediction vs Actual\n"
   ]
  },
  {
   "cell_type": "code",
   "execution_count": 19,
   "id": "1e0a5afb",
   "metadata": {},
   "outputs": [
    {
     "data": {
      "image/png": "[encoded data removed]",
      "text/plain": [
       "<Figure size 1000x600 with 1 Axes>"
      ]
     },
     "metadata": {},
     "output_type": "display_data"
    },
    {
     "data": {
      "image/png": "[encoded data removed]",
      "text/plain": [
       "<Figure size 1000x600 with 1 Axes>"
      ]
     },
     "metadata": {},
     "output_type": "display_data"
    }
   ],
   "source": [
    "# Plot predictions vs actual values\n",
    "plt.figure(figsize=(10, 6))\n",
    "plt.scatter(y_test, y_pred, alpha=0.6, color='blue')\n",
    "plt.plot([y_test.min(), y_test.max()], [y_test.min(), y_test.max()], 'r--', lw=2)\n",
    "plt.xlabel('Actual Yield (Quintal/Hectare)')\n",
    "plt.ylabel('Predicted Yield (Quintal/Hectare)')\n",
    "plt.title('Actual vs Predicted Yield')\n",
    "plt.grid(True, alpha=0.3)\n",
    "plt.tight_layout()\n",
    "plt.show()\n",
    "\n",
    "# Plot feature importance\n",
    "plt.figure(figsize=(10, 6))\n",
    "plt.barh(importance['feature'], importance['importance'])\n",
    "plt.xlabel('Importance')\n",
    "plt.title('Feature Importance in Yield Prediction')\n",
    "plt.tight_layout()\n",
    "plt.show()"
   ]
  }
 ],
 "metadata": {
  "kernelspec": {
   "display_name": ".venv",
   "language": "python",
   "name": "python3"
  },
  "language_info": {
   "codemirror_mode": {
    "name": "ipython",
    "version": 3
   },
   "file_extension": ".py",
   "mimetype": "text/x-python",
   "name": "python",
   "nbconvert_exporter": "python",
   "pygments_lexer": "ipython3",
   "version": "3.13.7"
  }
 },
 "nbformat": 4,
 "nbformat_minor": 5
}
